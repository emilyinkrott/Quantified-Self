{
 "cells": [
  {
   "cell_type": "markdown",
   "metadata": {},
   "source": [
    "# Quantified Self: Classification\n",
    "\n",
    "We'll start by loading the data from our csv files into data frames. We'll be using the \"revised\" versions of these files from the aggregation and hypothesis testing portion of the project. The revised files have removed any instances missing data and have the additional attribute of the schedule type of that day (MWF/TR/SS)."
   ]
  },
  {
   "cell_type": "code",
   "execution_count": 1,
   "metadata": {},
   "outputs": [],
   "source": [
    "import pandas as pd\n",
    "health_df = pd.read_csv(\"revised_health.csv\")\n",
    "health_df = health_df.drop(\"Unnamed: 0\", axis = 1)\n",
    "screentime_df = pd.read_csv(\"revised_screen_time.csv\")\n",
    "screentime_df=screentime_df.drop(\"Unnamed: 0\", axis = 1)"
   ]
  },
  {
   "cell_type": "markdown",
   "metadata": {},
   "source": [
    "Looking at the descriptions of the two different dataframes, we can begin to get an idea for what patterns exist within our data set. From here, we will merge the two data frames on the \"date\" attribute,  allowing us to view and work with the data set all at once."
   ]
  },
  {
   "cell_type": "code",
   "execution_count": 2,
   "metadata": {},
   "outputs": [
    {
     "name": "stdout",
     "output_type": "stream",
     "text": [
      "          Date    Weekday  Total Time (Minutes)        Highest  Games  Social  \\\n",
      "0   10/11/2020     Sunday                 512.0         Social   88.0   226.0   \n",
      "1   10/12/2020     Monday                 582.0         Social   38.0   261.0   \n",
      "2   10/13/2020    Tuesday                 346.0         Social   35.0   163.0   \n",
      "3   10/14/2020  Wednesday                 444.0         Social   30.0   139.0   \n",
      "4   10/15/2020   Thursday                 411.0         Social   19.0   177.0   \n",
      "..         ...        ...                   ...            ...    ...     ...   \n",
      "61  12/11/2020     Friday                 639.0         Social    8.0   535.0   \n",
      "62  12/12/2020   Saturday                 495.0         Social   14.0    90.0   \n",
      "63  12/13/2020     Sunday                 469.0         Social   13.0   122.0   \n",
      "64  12/14/2020     Monday                 578.0  Entertainment    0.0   113.0   \n",
      "65  12/15/2020    Tuesday                 567.0  Entertainment    3.0    64.0   \n",
      "\n",
      "    Entertainment  Utilities  Productivity & Finance  Creativity  \\\n",
      "0             0.0        0.0                    16.0         1.0   \n",
      "1           108.0       41.0                    25.0         8.0   \n",
      "2             8.0        0.0                    17.0        13.0   \n",
      "3           123.0       24.0                    21.0        16.0   \n",
      "4            48.0        0.0                     5.0         0.0   \n",
      "..            ...        ...                     ...         ...   \n",
      "61            2.0        7.0                     0.0         0.0   \n",
      "62           13.0        0.0                     2.0         8.0   \n",
      "63            7.0        0.0                     5.0         0.0   \n",
      "64          178.0       10.0                    10.0         0.0   \n",
      "65          210.0        0.0                     3.0         0.0   \n",
      "\n",
      "    Information & Reading  Education  Shopping & Food  Other  Unclassified  \\\n",
      "0                    47.0        0.0              0.0    0.0         134.0   \n",
      "1                     3.0        0.0              0.0    3.0          95.0   \n",
      "2                     6.0        3.0             10.0   22.0          69.0   \n",
      "3                     0.0        0.0              0.0    0.0          91.0   \n",
      "4                     1.0        0.0              0.0    0.0         161.0   \n",
      "..                    ...        ...              ...    ...           ...   \n",
      "61                    2.0        0.0              0.0    8.0          77.0   \n",
      "62                    1.0       13.0              0.0   29.0         325.0   \n",
      "63                    0.0        0.0              0.0   26.0         296.0   \n",
      "64                    0.0        0.0              0.0    0.0         267.0   \n",
      "65                    1.0        0.0              0.0    7.0         282.0   \n",
      "\n",
      "   Schedule Type  Distance (mi)  Flights Climbed (count)  Steps (count)  \n",
      "0             SS       2.465658                      7.0         5963.0  \n",
      "1            MWF       2.283322                      3.0         5848.0  \n",
      "2             TR       3.465627                     16.0         7988.0  \n",
      "3            MWF       3.708611                      7.0         8284.0  \n",
      "4             TR       1.464131                      6.0         3499.0  \n",
      "..           ...            ...                      ...            ...  \n",
      "61           MWF       0.383038                      0.0          862.0  \n",
      "62            SS       0.616667                      0.0         1432.0  \n",
      "63            SS       0.183702                      0.0          424.0  \n",
      "64           MWF       0.377172                      0.0          911.0  \n",
      "65            TR       0.600518                      0.0         1376.0  \n",
      "\n",
      "[66 rows x 19 columns]\n"
     ]
    },
    {
     "data": {
      "text/html": [
       "<div>\n",
       "<style scoped>\n",
       "    .dataframe tbody tr th:only-of-type {\n",
       "        vertical-align: middle;\n",
       "    }\n",
       "\n",
       "    .dataframe tbody tr th {\n",
       "        vertical-align: top;\n",
       "    }\n",
       "\n",
       "    .dataframe thead th {\n",
       "        text-align: right;\n",
       "    }\n",
       "</style>\n",
       "<table border=\"1\" class=\"dataframe\">\n",
       "  <thead>\n",
       "    <tr style=\"text-align: right;\">\n",
       "      <th></th>\n",
       "      <th>Total Time (Minutes)</th>\n",
       "      <th>Games</th>\n",
       "      <th>Social</th>\n",
       "      <th>Entertainment</th>\n",
       "      <th>Utilities</th>\n",
       "      <th>Productivity &amp; Finance</th>\n",
       "      <th>Creativity</th>\n",
       "      <th>Information &amp; Reading</th>\n",
       "      <th>Education</th>\n",
       "      <th>Shopping &amp; Food</th>\n",
       "      <th>Other</th>\n",
       "      <th>Unclassified</th>\n",
       "      <th>Distance (mi)</th>\n",
       "      <th>Flights Climbed (count)</th>\n",
       "      <th>Steps (count)</th>\n",
       "    </tr>\n",
       "  </thead>\n",
       "  <tbody>\n",
       "    <tr>\n",
       "      <th>count</th>\n",
       "      <td>66.000000</td>\n",
       "      <td>66.000000</td>\n",
       "      <td>66.000000</td>\n",
       "      <td>66.000000</td>\n",
       "      <td>66.000000</td>\n",
       "      <td>66.000000</td>\n",
       "      <td>66.00000</td>\n",
       "      <td>66.000000</td>\n",
       "      <td>66.000000</td>\n",
       "      <td>66.000000</td>\n",
       "      <td>66.000000</td>\n",
       "      <td>66.000000</td>\n",
       "      <td>66.000000</td>\n",
       "      <td>66.000000</td>\n",
       "      <td>66.000000</td>\n",
       "    </tr>\n",
       "    <tr>\n",
       "      <th>mean</th>\n",
       "      <td>416.530303</td>\n",
       "      <td>40.166667</td>\n",
       "      <td>145.984848</td>\n",
       "      <td>32.666667</td>\n",
       "      <td>9.909091</td>\n",
       "      <td>12.469697</td>\n",
       "      <td>8.50000</td>\n",
       "      <td>6.348485</td>\n",
       "      <td>0.333333</td>\n",
       "      <td>1.303030</td>\n",
       "      <td>5.666667</td>\n",
       "      <td>153.227273</td>\n",
       "      <td>1.747074</td>\n",
       "      <td>4.393939</td>\n",
       "      <td>4030.515152</td>\n",
       "    </tr>\n",
       "    <tr>\n",
       "      <th>std</th>\n",
       "      <td>118.338526</td>\n",
       "      <td>41.734540</td>\n",
       "      <td>68.351916</td>\n",
       "      <td>44.566401</td>\n",
       "      <td>16.252552</td>\n",
       "      <td>11.481383</td>\n",
       "      <td>12.38268</td>\n",
       "      <td>13.670285</td>\n",
       "      <td>1.657926</td>\n",
       "      <td>4.318011</td>\n",
       "      <td>9.204235</td>\n",
       "      <td>102.002684</td>\n",
       "      <td>1.227376</td>\n",
       "      <td>4.220386</td>\n",
       "      <td>2806.700605</td>\n",
       "    </tr>\n",
       "    <tr>\n",
       "      <th>min</th>\n",
       "      <td>139.000000</td>\n",
       "      <td>0.000000</td>\n",
       "      <td>63.000000</td>\n",
       "      <td>0.000000</td>\n",
       "      <td>0.000000</td>\n",
       "      <td>0.000000</td>\n",
       "      <td>0.00000</td>\n",
       "      <td>0.000000</td>\n",
       "      <td>0.000000</td>\n",
       "      <td>0.000000</td>\n",
       "      <td>0.000000</td>\n",
       "      <td>13.000000</td>\n",
       "      <td>0.084637</td>\n",
       "      <td>0.000000</td>\n",
       "      <td>199.000000</td>\n",
       "    </tr>\n",
       "    <tr>\n",
       "      <th>25%</th>\n",
       "      <td>318.500000</td>\n",
       "      <td>11.000000</td>\n",
       "      <td>107.250000</td>\n",
       "      <td>6.000000</td>\n",
       "      <td>0.000000</td>\n",
       "      <td>5.250000</td>\n",
       "      <td>0.00000</td>\n",
       "      <td>0.000000</td>\n",
       "      <td>0.000000</td>\n",
       "      <td>0.000000</td>\n",
       "      <td>0.000000</td>\n",
       "      <td>74.250000</td>\n",
       "      <td>0.486223</td>\n",
       "      <td>0.000000</td>\n",
       "      <td>1199.750000</td>\n",
       "    </tr>\n",
       "    <tr>\n",
       "      <th>50%</th>\n",
       "      <td>447.500000</td>\n",
       "      <td>23.000000</td>\n",
       "      <td>138.500000</td>\n",
       "      <td>14.000000</td>\n",
       "      <td>2.000000</td>\n",
       "      <td>9.000000</td>\n",
       "      <td>3.00000</td>\n",
       "      <td>2.000000</td>\n",
       "      <td>0.000000</td>\n",
       "      <td>0.000000</td>\n",
       "      <td>1.000000</td>\n",
       "      <td>131.500000</td>\n",
       "      <td>1.854219</td>\n",
       "      <td>4.500000</td>\n",
       "      <td>4220.500000</td>\n",
       "    </tr>\n",
       "    <tr>\n",
       "      <th>75%</th>\n",
       "      <td>500.500000</td>\n",
       "      <td>61.750000</td>\n",
       "      <td>171.750000</td>\n",
       "      <td>42.500000</td>\n",
       "      <td>11.500000</td>\n",
       "      <td>16.750000</td>\n",
       "      <td>10.00000</td>\n",
       "      <td>6.000000</td>\n",
       "      <td>0.000000</td>\n",
       "      <td>0.000000</td>\n",
       "      <td>7.000000</td>\n",
       "      <td>214.750000</td>\n",
       "      <td>2.622152</td>\n",
       "      <td>7.000000</td>\n",
       "      <td>6010.250000</td>\n",
       "    </tr>\n",
       "    <tr>\n",
       "      <th>max</th>\n",
       "      <td>639.000000</td>\n",
       "      <td>169.000000</td>\n",
       "      <td>535.000000</td>\n",
       "      <td>210.000000</td>\n",
       "      <td>74.000000</td>\n",
       "      <td>70.000000</td>\n",
       "      <td>54.00000</td>\n",
       "      <td>82.000000</td>\n",
       "      <td>13.000000</td>\n",
       "      <td>26.000000</td>\n",
       "      <td>35.000000</td>\n",
       "      <td>482.000000</td>\n",
       "      <td>4.114276</td>\n",
       "      <td>16.000000</td>\n",
       "      <td>9600.000000</td>\n",
       "    </tr>\n",
       "  </tbody>\n",
       "</table>\n",
       "</div>"
      ],
      "text/plain": [
       "       Total Time (Minutes)       Games      Social  Entertainment  Utilities  \\\n",
       "count             66.000000   66.000000   66.000000      66.000000  66.000000   \n",
       "mean             416.530303   40.166667  145.984848      32.666667   9.909091   \n",
       "std              118.338526   41.734540   68.351916      44.566401  16.252552   \n",
       "min              139.000000    0.000000   63.000000       0.000000   0.000000   \n",
       "25%              318.500000   11.000000  107.250000       6.000000   0.000000   \n",
       "50%              447.500000   23.000000  138.500000      14.000000   2.000000   \n",
       "75%              500.500000   61.750000  171.750000      42.500000  11.500000   \n",
       "max              639.000000  169.000000  535.000000     210.000000  74.000000   \n",
       "\n",
       "       Productivity & Finance  Creativity  Information & Reading  Education  \\\n",
       "count               66.000000    66.00000              66.000000  66.000000   \n",
       "mean                12.469697     8.50000               6.348485   0.333333   \n",
       "std                 11.481383    12.38268              13.670285   1.657926   \n",
       "min                  0.000000     0.00000               0.000000   0.000000   \n",
       "25%                  5.250000     0.00000               0.000000   0.000000   \n",
       "50%                  9.000000     3.00000               2.000000   0.000000   \n",
       "75%                 16.750000    10.00000               6.000000   0.000000   \n",
       "max                 70.000000    54.00000              82.000000  13.000000   \n",
       "\n",
       "       Shopping & Food      Other  Unclassified  Distance (mi)  \\\n",
       "count        66.000000  66.000000     66.000000      66.000000   \n",
       "mean          1.303030   5.666667    153.227273       1.747074   \n",
       "std           4.318011   9.204235    102.002684       1.227376   \n",
       "min           0.000000   0.000000     13.000000       0.084637   \n",
       "25%           0.000000   0.000000     74.250000       0.486223   \n",
       "50%           0.000000   1.000000    131.500000       1.854219   \n",
       "75%           0.000000   7.000000    214.750000       2.622152   \n",
       "max          26.000000  35.000000    482.000000       4.114276   \n",
       "\n",
       "       Flights Climbed (count)  Steps (count)  \n",
       "count                66.000000      66.000000  \n",
       "mean                  4.393939    4030.515152  \n",
       "std                   4.220386    2806.700605  \n",
       "min                   0.000000     199.000000  \n",
       "25%                   0.000000    1199.750000  \n",
       "50%                   4.500000    4220.500000  \n",
       "75%                   7.000000    6010.250000  \n",
       "max                  16.000000    9600.000000  "
      ]
     },
     "execution_count": 2,
     "metadata": {},
     "output_type": "execute_result"
    }
   ],
   "source": [
    "#we have some duplicate attributes, so we'll drop those.\n",
    "health_df = health_df.drop(\"Weekday\", axis = 1)\n",
    "health_df = health_df.drop(\"Schedule Type\", axis = 1)\n",
    "data_df = screentime_df.merge(health_df, on = \"Date\")\n",
    "print(data_df)\n",
    "data_df.describe()"
   ]
  },
  {
   "cell_type": "markdown",
   "metadata": {},
   "source": [
    "Now that the data has been merged, we can start with our classification. The goal here is to see if we can predict the schedule type of any given day, given screen time and health data attributes. We'll exclude the \"Weekday\" and \"Date\" attributes from our \"x\" data frame, since those two attributes will always give away the schedule type and don't have to do with screen time or physical activity.\n",
    "\n",
    "Part of our preprocessing is encoding categorical values so they can be treated numerically. In this case, we will be encoding the \"Highest\" attribute, which gives the app category with the highest screen time on any given day."
   ]
  },
  {
   "cell_type": "code",
   "execution_count": 3,
   "metadata": {},
   "outputs": [
    {
     "name": "stdout",
     "output_type": "stream",
     "text": [
      "['Entertainment' 'Games' 'Social']\n",
      "[0 1 2]\n"
     ]
    }
   ],
   "source": [
    "from sklearn.preprocessing import LabelEncoder\n",
    "\n",
    "highest_le = LabelEncoder()\n",
    "highest_le.fit(data_df[\"Highest\"])\n",
    "print(highest_le.classes_)\n",
    "test = [\"Entertainment\",\"Games\", \"Social\"]\n",
    "test = highest_le.transform(test)\n",
    "print(test)"
   ]
  },
  {
   "cell_type": "markdown",
   "metadata": {},
   "source": [
    "Using the label encoder, \"Entertainment\" becomes 0, \"Games\" becomes 1, and \"Social\" becomes 2."
   ]
  },
  {
   "cell_type": "code",
   "execution_count": 4,
   "metadata": {},
   "outputs": [
    {
     "name": "stdout",
     "output_type": "stream",
     "text": [
      "0     2\n",
      "1     2\n",
      "2     2\n",
      "3     2\n",
      "4     2\n",
      "     ..\n",
      "61    2\n",
      "62    2\n",
      "63    2\n",
      "64    0\n",
      "65    0\n",
      "Name: Highest, Length: 66, dtype: int32\n"
     ]
    }
   ],
   "source": [
    "data_df[\"Highest\"] = highest_le.transform(data_df[\"Highest\"])\n",
    "print(data_df[\"Highest\"])"
   ]
  },
  {
   "cell_type": "markdown",
   "metadata": {},
   "source": [
    "Now we can drop the date and weekday atributes."
   ]
  },
  {
   "cell_type": "code",
   "execution_count": 5,
   "metadata": {},
   "outputs": [],
   "source": [
    "data_df = data_df.drop(\"Date\", axis = 1)\n",
    "data_df = data_df.drop(\"Weekday\", axis = 1)"
   ]
  },
  {
   "cell_type": "markdown",
   "metadata": {},
   "source": [
    "With this done, we can move on to our classification.\n",
    "\n",
    "## kNN Classification\n",
    "\n",
    "Moving onto classification, we begin with the kNN classifier. Our y value is the attribute that we want to predict. In this case, that's the schedule type (MWF/TR/SS). The rest of the data makes up our x."
   ]
  },
  {
   "cell_type": "code",
   "execution_count": 6,
   "metadata": {},
   "outputs": [],
   "source": [
    "y = data_df[\"Schedule Type\"]\n",
    "x = data_df.drop(\"Schedule Type\", axis=1)"
   ]
  },
  {
   "cell_type": "markdown",
   "metadata": {},
   "source": [
    "Now that we have our data separated, we will implement min-max scaling to ensure that no one attribute is weighted more heavily in classification than any other. From there we will use `train_test_split` to separate our training and testing sets. `train_test_split` uses the hold out method, holding out 25% of the data set for testing."
   ]
  },
  {
   "cell_type": "code",
   "execution_count": 7,
   "metadata": {},
   "outputs": [],
   "source": [
    "from sklearn.model_selection import train_test_split\n",
    "from sklearn.preprocessing import MinMaxScaler\n",
    "from sklearn.neighbors import KNeighborsClassifier\n",
    "\n",
    "scaler = MinMaxScaler()\n",
    "x = scaler.fit_transform(x)\n",
    "#train test split defaults to holding out 25%\n",
    "x_train, x_test, y_train, y_test = train_test_split(x, y, random_state=0, stratify=y)\n"
   ]
  },
  {
   "cell_type": "markdown",
   "metadata": {},
   "source": [
    "Now we'll fit our kNN classifier to the data set."
   ]
  },
  {
   "cell_type": "code",
   "execution_count": 8,
   "metadata": {},
   "outputs": [
    {
     "name": "stdout",
     "output_type": "stream",
     "text": [
      "SS MWF\n",
      "TR MWF\n",
      "SS MWF\n",
      "MWF MWF\n",
      "MWF MWF\n",
      "MWF MWF\n",
      "TR TR\n",
      "MWF MWF\n",
      "TR SS\n",
      "MWF MWF\n",
      "SS MWF\n",
      "TR SS\n",
      "SS SS\n",
      "MWF MWF\n",
      "SS MWF\n",
      "MWF MWF\n",
      "TR MWF\n",
      "0.5294117647058824\n"
     ]
    }
   ],
   "source": [
    "clf = KNeighborsClassifier(n_neighbors=5, metric=\"euclidean\")\n",
    "clf.fit(x_train, y_train)\n",
    "y_predicted = clf.predict(x_test)\n",
    "for i in range(len(y_predicted)):\n",
    "    print(y_test.values[i], y_predicted[i])\n",
    "\n",
    "accuracy = clf.score(x_test, y_test)\n",
    "print(accuracy)"
   ]
  },
  {
   "cell_type": "markdown",
   "metadata": {},
   "source": [
    "With only about 53% accuracy, our kNN classifier isn't doing very well with the data presented to it. All of the MWF days were correctly classified as such. However, of all of the TR and SS days, only two were classified correctly. We may want to revise what data is being used in our classification. However, there are other classifiers we can look at before narrowing down what data we are using in our x data frame.\n",
    "\n",
    "Next, we'll look at the decision tree classifier."
   ]
  },
  {
   "cell_type": "code",
   "execution_count": 9,
   "metadata": {},
   "outputs": [
    {
     "name": "stdout",
     "output_type": "stream",
     "text": [
      "SS TR\n",
      "TR SS\n",
      "SS MWF\n",
      "MWF MWF\n",
      "MWF MWF\n",
      "MWF TR\n",
      "TR TR\n",
      "MWF MWF\n",
      "TR TR\n",
      "MWF MWF\n",
      "SS TR\n",
      "TR TR\n",
      "SS SS\n",
      "MWF SS\n",
      "SS MWF\n",
      "MWF MWF\n",
      "TR TR\n",
      "0.5882352941176471\n"
     ]
    }
   ],
   "source": [
    "from sklearn.tree import DecisionTreeClassifier\n",
    "\n",
    "tree_clf = DecisionTreeClassifier(random_state = 0)\n",
    "tree_clf.fit(x_train, y_train)\n",
    "\n",
    "y_predicted = tree_clf.predict(x_test)\n",
    "for i in range(len(y_predicted)):\n",
    "    print(y_test.values[i], y_predicted[i])\n",
    "accuracy = tree_clf.score(x_test, y_test)\n",
    "print(accuracy)"
   ]
  },
  {
   "cell_type": "markdown",
   "metadata": {},
   "source": [
    "The decision tree classifier improves on the kNN classifier, with an accuracy of 58%, but it's still not great. This time, the correct classifications were more spread out between the different schedule days, but there was still almost half of the test set that was incorrectly classified. Time to take another look at our data set."
   ]
  },
  {
   "cell_type": "markdown",
   "metadata": {},
   "source": [
    "## Refining Classifiers\n",
    "\n",
    "Based on the accuracy of these two classifiers, we can tell that there's some confusion happening based on the data given. From our hypothesis testing (see AggregationAndHypoTesting), we know that the total minutes of screen time plays a strong role in distinguishing between a MWF day and a TR or SS day. However, while the visualizations seemed to indicate that physical activity was notably different depending on the day of the week, our hypothesis testing disproved the theory that distance, steps, and flights could be used to distinguish between schedule types. \n",
    "\n",
    "Looking at our screen time data, there are a lot of categories that tend towards 0. MinMax scaling might not be the most effective when it comes to individual categories such as these. Categories that maybe _shouldn't_ have as much weight are given equal weight to some of the more significant categories, such as total minutes of screen time.\n",
    "\n",
    "Based on these ideas, I'm putting together a revised dataframe containing attributes that I think are most significant to our predictions."
   ]
  },
  {
   "cell_type": "code",
   "execution_count": 10,
   "metadata": {},
   "outputs": [],
   "source": [
    "revised_df = pd.DataFrame()\n",
    "revised_df[\"Total Minutes\"] = data_df[\"Total Time (Minutes)\"]\n",
    "revised_df[\"Highest\"] = data_df[\"Highest\"]\n",
    "revised_df[\"Games\"] = data_df[\"Games\"]\n",
    "revised_df[\"Social\"] = data_df[\"Social\"]\n",
    "revised_df[\"Entertainment\"] = data_df[\"Entertainment\"]\n",
    "revised_df[\"Utilities\"] = data_df[\"Utilities\"]\n",
    "revised_df[\"Productivity & Finance\"] = data_df[\"Productivity & Finance\"]\n",
    "revised_df[\"Other\"] = data_df[\"Other\"]\n",
    "revised_df[\"Unclassified\"] = data_df[\"Unclassified\"]\n",
    "revised_df[\"Schedule Type\"] = data_df[\"Schedule Type\"]"
   ]
  },
  {
   "cell_type": "markdown",
   "metadata": {},
   "source": [
    "The revised data frame has removed any attributes that our hypothesis testing determined could not be used to clearly distinguish a certain schedule type. I've also removed certain screen time categories that did not contain much significant data. With this revised data set, we can redo our classifiers."
   ]
  },
  {
   "cell_type": "code",
   "execution_count": 11,
   "metadata": {},
   "outputs": [
    {
     "name": "stdout",
     "output_type": "stream",
     "text": [
      "SS TR\n",
      "TR SS\n",
      "SS MWF\n",
      "MWF SS\n",
      "MWF MWF\n",
      "MWF MWF\n",
      "TR SS\n",
      "MWF MWF\n",
      "TR MWF\n",
      "MWF MWF\n",
      "SS SS\n",
      "TR TR\n",
      "SS SS\n",
      "MWF MWF\n",
      "SS MWF\n",
      "MWF MWF\n",
      "TR MWF\n",
      "0.5294117647058824\n"
     ]
    }
   ],
   "source": [
    "y = revised_df[\"Schedule Type\"]\n",
    "x = revised_df.drop(\"Schedule Type\", axis = 1)\n",
    "\n",
    "x = scaler.fit_transform(x)\n",
    "#train test split defaults to holding out 25%\n",
    "x_train, x_test, y_train, y_test = train_test_split(x, y, random_state=0, stratify=y)\n",
    "clf = KNeighborsClassifier(n_neighbors=5, metric=\"euclidean\")\n",
    "clf.fit(x_train, y_train)\n",
    "y_predicted = clf.predict(x_test)\n",
    "for i in range(len(y_predicted)):\n",
    "    print(y_test.values[i], y_predicted[i])\n",
    "\n",
    "accuracy = clf.score(x_test, y_test)\n",
    "print(accuracy)"
   ]
  },
  {
   "cell_type": "markdown",
   "metadata": {},
   "source": [
    "The kNN classifier still has an accuracy of about 53%."
   ]
  },
  {
   "cell_type": "code",
   "execution_count": 12,
   "metadata": {},
   "outputs": [
    {
     "name": "stdout",
     "output_type": "stream",
     "text": [
      "SS TR\n",
      "TR MWF\n",
      "SS SS\n",
      "MWF SS\n",
      "MWF MWF\n",
      "MWF TR\n",
      "TR TR\n",
      "MWF MWF\n",
      "TR TR\n",
      "MWF MWF\n",
      "SS MWF\n",
      "TR TR\n",
      "SS TR\n",
      "MWF MWF\n",
      "SS SS\n",
      "MWF MWF\n",
      "TR TR\n",
      "0.6470588235294118\n"
     ]
    }
   ],
   "source": [
    "tree_clf = DecisionTreeClassifier(random_state = 0)\n",
    "tree_clf.fit(x_train, y_train)\n",
    "\n",
    "y_predicted = tree_clf.predict(x_test)\n",
    "for i in range(len(y_predicted)):\n",
    "    print(y_test.values[i], y_predicted[i])\n",
    "accuracy = tree_clf.score(x_test, y_test)\n",
    "print(accuracy)"
   ]
  },
  {
   "cell_type": "markdown",
   "metadata": {},
   "source": [
    "The decision tree classifier, however, now has an accuracy of about 65%. Still not great, but an improvement!\n",
    "\n",
    "Next, we will start adjusting the parameters of each classifier to try to find a better accuracy."
   ]
  },
  {
   "cell_type": "code",
   "execution_count": 13,
   "metadata": {},
   "outputs": [
    {
     "name": "stdout",
     "output_type": "stream",
     "text": [
      "SS SS\n",
      "TR MWF\n",
      "SS MWF\n",
      "MWF MWF\n",
      "MWF MWF\n",
      "MWF MWF\n",
      "TR SS\n",
      "MWF MWF\n",
      "TR TR\n",
      "MWF MWF\n",
      "SS MWF\n",
      "TR TR\n",
      "SS SS\n",
      "MWF MWF\n",
      "SS MWF\n",
      "MWF MWF\n",
      "TR MWF\n",
      "0.6470588235294118\n"
     ]
    }
   ],
   "source": [
    "clf = KNeighborsClassifier(n_neighbors=13, metric=\"euclidean\")\n",
    "clf.fit(x_train, y_train)\n",
    "y_predicted = clf.predict(x_test)\n",
    "for i in range(len(y_predicted)):\n",
    "    print(y_test.values[i], y_predicted[i])\n",
    "\n",
    "accuracy = clf.score(x_test, y_test)\n",
    "print(accuracy)"
   ]
  },
  {
   "cell_type": "markdown",
   "metadata": {},
   "source": [
    "By increasing the number of neighbors used to compare in the kNN classifier to 13, we are able to increase the accuracy to about 65%. Now, the kNN and decision tree classifiers are about the same in terms of accuracy.\n",
    "\n",
    "Like kNN, we can adjust the parameters of the decision tree classifier to alter the outcome. In this case, we will be limiting the max height."
   ]
  },
  {
   "cell_type": "code",
   "execution_count": 14,
   "metadata": {},
   "outputs": [
    {
     "name": "stdout",
     "output_type": "stream",
     "text": [
      "SS SS\n",
      "TR TR\n",
      "SS SS\n",
      "MWF MWF\n",
      "MWF MWF\n",
      "MWF MWF\n",
      "TR TR\n",
      "MWF MWF\n",
      "TR TR\n",
      "MWF MWF\n",
      "SS SS\n",
      "TR TR\n",
      "SS SS\n",
      "MWF MWF\n",
      "SS SS\n",
      "MWF MWF\n",
      "TR TR\n",
      "1.0\n"
     ]
    }
   ],
   "source": [
    "tree_clf = DecisionTreeClassifier(max_depth = 5, random_state = 0)\n",
    "tree_clf.fit(x, y)\n",
    "y_predicted = tree_clf.predict(x_test)\n",
    "for i in range(len(y_predicted)):\n",
    "    print(y_test.values[i], y_predicted[i])\n",
    "accuracy = tree_clf.score(x_test, y_test)\n",
    "print(accuracy)"
   ]
  },
  {
   "cell_type": "markdown",
   "metadata": {},
   "source": [
    "By changing the max depth of the tree, and limiting it to 5, we are able to get all of the test values correct, for a 100% accuracy rate. Overall, our decision tree classifier performs better than the kNN classifier. However, by manipulating the parameters of the kNN classifier, we were able to improve the classifier's accuracy."
   ]
  }
 ],
 "metadata": {
  "kernelspec": {
   "display_name": "Python 3",
   "language": "python",
   "name": "python3"
  },
  "language_info": {
   "codemirror_mode": {
    "name": "ipython",
    "version": 3
   },
   "file_extension": ".py",
   "mimetype": "text/x-python",
   "name": "python",
   "nbconvert_exporter": "python",
   "pygments_lexer": "ipython3",
   "version": "3.8.3"
  }
 },
 "nbformat": 4,
 "nbformat_minor": 4
}
