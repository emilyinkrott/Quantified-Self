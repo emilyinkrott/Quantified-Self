{
 "cells": [
  {
   "cell_type": "markdown",
   "metadata": {},
   "source": [
    "# Quantified Self: Intro, Aggregation, and Hypothesis Testing\n",
    "\n",
    "## Domain Introduction\n",
    "\n",
    "For my quanrified self project, I will be analyzing health data and screen time data from the past several months. Both of these data sets have been extracted from my phone. The health data has been measured by the iPhone's health app, and contains information on my daily steps, distance, and floors climbed. I have also added the days of the week to this data set, to allow for data analysis based on the day of the week. The screen time data was collected by the iPhone's screen time settings, but was manually input into a csv file by me, as there is no way to export a file from the iPhone. The screen time data records the amount of time I spend on my phone each day, as well as how much of that time was spent on each category of app. Here, too, I have added the days of the week for better analysis.\n",
    "\n",
    "## Data Aggregation\n",
    "\n",
    "To begin, I will load the two data sets into pandas data frames from their respective csv files."
   ]
  },
  {
   "cell_type": "code",
   "execution_count": 1,
   "metadata": {},
   "outputs": [],
   "source": [
    "import pandas as pd\n",
    "import numpy as np\n",
    "\n",
    "health_df = pd.read_csv(\"health_data.csv\")\n",
    "health_df = health_df.dropna(axis=0)\n",
    "screen_time_df = pd.read_csv(\"screen_time.csv\")\n",
    "screen_time_df = screen_time_df.dropna(axis=0)"
   ]
  },
  {
   "cell_type": "markdown",
   "metadata": {},
   "source": [
    "Now that our data sets have been loaded into data frames, we can begin to look at the data we have collected and look for any trends. We will start by grouping our data by days of the week, and looking at histograms for the mean value by weekday. The first step for this is to group our data by the day of the week."
   ]
  },
  {
   "cell_type": "code",
   "execution_count": 2,
   "metadata": {},
   "outputs": [
    {
     "data": {
      "text/html": [
       "<div>\n",
       "<style scoped>\n",
       "    .dataframe tbody tr th:only-of-type {\n",
       "        vertical-align: middle;\n",
       "    }\n",
       "\n",
       "    .dataframe tbody tr th {\n",
       "        vertical-align: top;\n",
       "    }\n",
       "\n",
       "    .dataframe thead th {\n",
       "        text-align: right;\n",
       "    }\n",
       "</style>\n",
       "<table border=\"1\" class=\"dataframe\">\n",
       "  <thead>\n",
       "    <tr style=\"text-align: right;\">\n",
       "      <th></th>\n",
       "      <th>Distance (mi)</th>\n",
       "      <th>Flights Climbed (count)</th>\n",
       "      <th>Steps (count)</th>\n",
       "    </tr>\n",
       "  </thead>\n",
       "  <tbody>\n",
       "    <tr>\n",
       "      <th>count</th>\n",
       "      <td>66.000000</td>\n",
       "      <td>66.000000</td>\n",
       "      <td>66.000000</td>\n",
       "    </tr>\n",
       "    <tr>\n",
       "      <th>mean</th>\n",
       "      <td>1.747074</td>\n",
       "      <td>4.393939</td>\n",
       "      <td>4030.515152</td>\n",
       "    </tr>\n",
       "    <tr>\n",
       "      <th>std</th>\n",
       "      <td>1.227376</td>\n",
       "      <td>4.220386</td>\n",
       "      <td>2806.700605</td>\n",
       "    </tr>\n",
       "    <tr>\n",
       "      <th>min</th>\n",
       "      <td>0.084637</td>\n",
       "      <td>0.000000</td>\n",
       "      <td>199.000000</td>\n",
       "    </tr>\n",
       "    <tr>\n",
       "      <th>25%</th>\n",
       "      <td>0.486223</td>\n",
       "      <td>0.000000</td>\n",
       "      <td>1199.750000</td>\n",
       "    </tr>\n",
       "    <tr>\n",
       "      <th>50%</th>\n",
       "      <td>1.854219</td>\n",
       "      <td>4.500000</td>\n",
       "      <td>4220.500000</td>\n",
       "    </tr>\n",
       "    <tr>\n",
       "      <th>75%</th>\n",
       "      <td>2.622152</td>\n",
       "      <td>7.000000</td>\n",
       "      <td>6010.250000</td>\n",
       "    </tr>\n",
       "    <tr>\n",
       "      <th>max</th>\n",
       "      <td>4.114276</td>\n",
       "      <td>16.000000</td>\n",
       "      <td>9600.000000</td>\n",
       "    </tr>\n",
       "  </tbody>\n",
       "</table>\n",
       "</div>"
      ],
      "text/plain": [
       "       Distance (mi)  Flights Climbed (count)  Steps (count)\n",
       "count      66.000000                66.000000      66.000000\n",
       "mean        1.747074                 4.393939    4030.515152\n",
       "std         1.227376                 4.220386    2806.700605\n",
       "min         0.084637                 0.000000     199.000000\n",
       "25%         0.486223                 0.000000    1199.750000\n",
       "50%         1.854219                 4.500000    4220.500000\n",
       "75%         2.622152                 7.000000    6010.250000\n",
       "max         4.114276                16.000000    9600.000000"
      ]
     },
     "execution_count": 2,
     "metadata": {},
     "output_type": "execute_result"
    }
   ],
   "source": [
    "health_df.describe()"
   ]
  },
  {
   "cell_type": "code",
   "execution_count": 3,
   "metadata": {},
   "outputs": [
    {
     "data": {
      "text/html": [
       "<div>\n",
       "<style scoped>\n",
       "    .dataframe tbody tr th:only-of-type {\n",
       "        vertical-align: middle;\n",
       "    }\n",
       "\n",
       "    .dataframe tbody tr th {\n",
       "        vertical-align: top;\n",
       "    }\n",
       "\n",
       "    .dataframe thead th {\n",
       "        text-align: right;\n",
       "    }\n",
       "</style>\n",
       "<table border=\"1\" class=\"dataframe\">\n",
       "  <thead>\n",
       "    <tr style=\"text-align: right;\">\n",
       "      <th></th>\n",
       "      <th>Total Time (Minutes)</th>\n",
       "      <th>Games</th>\n",
       "      <th>Social</th>\n",
       "      <th>Entertainment</th>\n",
       "      <th>Utilities</th>\n",
       "      <th>Productivity &amp; Finance</th>\n",
       "      <th>Creativity</th>\n",
       "      <th>Information &amp; Reading</th>\n",
       "      <th>Education</th>\n",
       "      <th>Shopping &amp; Food</th>\n",
       "      <th>Other</th>\n",
       "      <th>Unclassified</th>\n",
       "    </tr>\n",
       "  </thead>\n",
       "  <tbody>\n",
       "    <tr>\n",
       "      <th>count</th>\n",
       "      <td>66.000000</td>\n",
       "      <td>66.000000</td>\n",
       "      <td>66.000000</td>\n",
       "      <td>66.000000</td>\n",
       "      <td>66.000000</td>\n",
       "      <td>66.000000</td>\n",
       "      <td>66.00000</td>\n",
       "      <td>66.000000</td>\n",
       "      <td>66.000000</td>\n",
       "      <td>66.000000</td>\n",
       "      <td>66.000000</td>\n",
       "      <td>66.000000</td>\n",
       "    </tr>\n",
       "    <tr>\n",
       "      <th>mean</th>\n",
       "      <td>416.530303</td>\n",
       "      <td>40.166667</td>\n",
       "      <td>145.984848</td>\n",
       "      <td>32.666667</td>\n",
       "      <td>9.909091</td>\n",
       "      <td>12.469697</td>\n",
       "      <td>8.50000</td>\n",
       "      <td>6.348485</td>\n",
       "      <td>0.333333</td>\n",
       "      <td>1.303030</td>\n",
       "      <td>5.666667</td>\n",
       "      <td>153.227273</td>\n",
       "    </tr>\n",
       "    <tr>\n",
       "      <th>std</th>\n",
       "      <td>118.338526</td>\n",
       "      <td>41.734540</td>\n",
       "      <td>68.351916</td>\n",
       "      <td>44.566401</td>\n",
       "      <td>16.252552</td>\n",
       "      <td>11.481383</td>\n",
       "      <td>12.38268</td>\n",
       "      <td>13.670285</td>\n",
       "      <td>1.657926</td>\n",
       "      <td>4.318011</td>\n",
       "      <td>9.204235</td>\n",
       "      <td>102.002684</td>\n",
       "    </tr>\n",
       "    <tr>\n",
       "      <th>min</th>\n",
       "      <td>139.000000</td>\n",
       "      <td>0.000000</td>\n",
       "      <td>63.000000</td>\n",
       "      <td>0.000000</td>\n",
       "      <td>0.000000</td>\n",
       "      <td>0.000000</td>\n",
       "      <td>0.00000</td>\n",
       "      <td>0.000000</td>\n",
       "      <td>0.000000</td>\n",
       "      <td>0.000000</td>\n",
       "      <td>0.000000</td>\n",
       "      <td>13.000000</td>\n",
       "    </tr>\n",
       "    <tr>\n",
       "      <th>25%</th>\n",
       "      <td>318.500000</td>\n",
       "      <td>11.000000</td>\n",
       "      <td>107.250000</td>\n",
       "      <td>6.000000</td>\n",
       "      <td>0.000000</td>\n",
       "      <td>5.250000</td>\n",
       "      <td>0.00000</td>\n",
       "      <td>0.000000</td>\n",
       "      <td>0.000000</td>\n",
       "      <td>0.000000</td>\n",
       "      <td>0.000000</td>\n",
       "      <td>74.250000</td>\n",
       "    </tr>\n",
       "    <tr>\n",
       "      <th>50%</th>\n",
       "      <td>447.500000</td>\n",
       "      <td>23.000000</td>\n",
       "      <td>138.500000</td>\n",
       "      <td>14.000000</td>\n",
       "      <td>2.000000</td>\n",
       "      <td>9.000000</td>\n",
       "      <td>3.00000</td>\n",
       "      <td>2.000000</td>\n",
       "      <td>0.000000</td>\n",
       "      <td>0.000000</td>\n",
       "      <td>1.000000</td>\n",
       "      <td>131.500000</td>\n",
       "    </tr>\n",
       "    <tr>\n",
       "      <th>75%</th>\n",
       "      <td>500.500000</td>\n",
       "      <td>61.750000</td>\n",
       "      <td>171.750000</td>\n",
       "      <td>42.500000</td>\n",
       "      <td>11.500000</td>\n",
       "      <td>16.750000</td>\n",
       "      <td>10.00000</td>\n",
       "      <td>6.000000</td>\n",
       "      <td>0.000000</td>\n",
       "      <td>0.000000</td>\n",
       "      <td>7.000000</td>\n",
       "      <td>214.750000</td>\n",
       "    </tr>\n",
       "    <tr>\n",
       "      <th>max</th>\n",
       "      <td>639.000000</td>\n",
       "      <td>169.000000</td>\n",
       "      <td>535.000000</td>\n",
       "      <td>210.000000</td>\n",
       "      <td>74.000000</td>\n",
       "      <td>70.000000</td>\n",
       "      <td>54.00000</td>\n",
       "      <td>82.000000</td>\n",
       "      <td>13.000000</td>\n",
       "      <td>26.000000</td>\n",
       "      <td>35.000000</td>\n",
       "      <td>482.000000</td>\n",
       "    </tr>\n",
       "  </tbody>\n",
       "</table>\n",
       "</div>"
      ],
      "text/plain": [
       "       Total Time (Minutes)       Games      Social  Entertainment  Utilities  \\\n",
       "count             66.000000   66.000000   66.000000      66.000000  66.000000   \n",
       "mean             416.530303   40.166667  145.984848      32.666667   9.909091   \n",
       "std              118.338526   41.734540   68.351916      44.566401  16.252552   \n",
       "min              139.000000    0.000000   63.000000       0.000000   0.000000   \n",
       "25%              318.500000   11.000000  107.250000       6.000000   0.000000   \n",
       "50%              447.500000   23.000000  138.500000      14.000000   2.000000   \n",
       "75%              500.500000   61.750000  171.750000      42.500000  11.500000   \n",
       "max              639.000000  169.000000  535.000000     210.000000  74.000000   \n",
       "\n",
       "       Productivity & Finance  Creativity  Information & Reading  Education  \\\n",
       "count               66.000000    66.00000              66.000000  66.000000   \n",
       "mean                12.469697     8.50000               6.348485   0.333333   \n",
       "std                 11.481383    12.38268              13.670285   1.657926   \n",
       "min                  0.000000     0.00000               0.000000   0.000000   \n",
       "25%                  5.250000     0.00000               0.000000   0.000000   \n",
       "50%                  9.000000     3.00000               2.000000   0.000000   \n",
       "75%                 16.750000    10.00000               6.000000   0.000000   \n",
       "max                 70.000000    54.00000              82.000000  13.000000   \n",
       "\n",
       "       Shopping & Food      Other  Unclassified  \n",
       "count        66.000000  66.000000     66.000000  \n",
       "mean          1.303030   5.666667    153.227273  \n",
       "std           4.318011   9.204235    102.002684  \n",
       "min           0.000000   0.000000     13.000000  \n",
       "25%           0.000000   0.000000     74.250000  \n",
       "50%           0.000000   1.000000    131.500000  \n",
       "75%           0.000000   7.000000    214.750000  \n",
       "max          26.000000  35.000000    482.000000  "
      ]
     },
     "execution_count": 3,
     "metadata": {},
     "output_type": "execute_result"
    }
   ],
   "source": [
    "screen_time_df.describe()"
   ]
  },
  {
   "cell_type": "code",
   "execution_count": 22,
   "metadata": {},
   "outputs": [],
   "source": [
    "health_weekday_groups = health_df.groupby(\"Weekday\")\n",
    "screen_time_weekday_groups = screen_time_df.groupby(\"Weekday\")\n",
    "\n",
    "distance_mean_ser = pd.Series(dtype=float)\n",
    "flights_mean_ser = pd.Series(dtype=float)\n",
    "steps_mean_ser = pd.Series(dtype=float)\n",
    "\n",
    "for group_name, group_df in health_weekday_groups:\n",
    "    distance_mean_ser[group_name] = group_df[\"Distance (mi)\"].mean()\n",
    "    flights_mean_ser[group_name] = group_df[\"Flights Climbed (count)\"].mean()\n",
    "    steps_mean_ser[group_name] = group_df[\"Steps (count)\"].mean()\n",
    "    \n",
    "total_minutes_mean_ser = pd.Series(dtype=float)\n",
    "for group_name, group_df in screen_time_weekday_groups:\n",
    "    total_minutes_mean_ser[group_name] = group_df[\"Total Time (Minutes)\"].mean()\n"
   ]
  },
  {
   "cell_type": "markdown",
   "metadata": {},
   "source": [
    "## Data Visualization\n",
    "\n",
    "For our health data, there are not many attributes for us to examine, so we can look at data visualizations for all the attributes. Our screen time data, on the other hand, has many attributes. Before looking at the data in further detail, we will look at the overall time spent per weekday. These bar charts will be made using the `make_bar_chart()` function in `utils.py`."
   ]
  },
  {
   "cell_type": "code",
   "execution_count": 5,
   "metadata": {},
   "outputs": [
    {
     "data": {
      "image/png": "[encoded data removed]",
      "text/plain": [
       "<Figure size 432x288 with 1 Axes>"
      ]
     },
     "metadata": {
      "needs_background": "light"
     },
     "output_type": "display_data"
    }
   ],
   "source": [
    "import utils\n",
    "utils.make_bar_chart(total_minutes_mean_ser, \"Screen Time Average by Weekday (Minutes)\")"
   ]
  },
  {
   "cell_type": "markdown",
   "metadata": {},
   "source": [
    "With this bar chart, we can see that the average screen time tends to be between 300 and 500 minutes each day, with lower values on Tuesdays and Thursdays. Mondays, Wednesdays, and Fridays have the highest values. This contrast aligns with real life circumstances: class schedules. The difference between Tuesday-Thursday classes and Monday-Wednesday-Friday schedules might allow for more free time, or might require different levels of device usage for different topics. However, there is a clear trend. Now, We will look at some visualizations for the health app data."
   ]
  },
  {
   "cell_type": "code",
   "execution_count": 6,
   "metadata": {},
   "outputs": [
    {
     "data": {
      "image/png": "[encoded data removed]",
      "text/plain": [
       "<Figure size 432x288 with 1 Axes>"
      ]
     },
     "metadata": {
      "needs_background": "light"
     },
     "output_type": "display_data"
    },
    {
     "data": {
      "image/png": "[encoded data removed]",
      "text/plain": [
       "<Figure size 432x288 with 1 Axes>"
      ]
     },
     "metadata": {
      "needs_background": "light"
     },
     "output_type": "display_data"
    },
    {
     "data": {
      "image/png": "[encoded data removed]",
      "text/plain": [
       "<Figure size 432x288 with 1 Axes>"
      ]
     },
     "metadata": {
      "needs_background": "light"
     },
     "output_type": "display_data"
    }
   ],
   "source": [
    "utils.make_bar_chart(distance_mean_ser, \"Average Distance by Weekday (Miles)\")\n",
    "utils.make_bar_chart(flights_mean_ser, \"Average Flights Climbed by Weekday\")\n",
    "utils.make_bar_chart(steps_mean_ser, \"Average Steps by Weekday\")\n"
   ]
  },
  {
   "cell_type": "markdown",
   "metadata": {},
   "source": [
    "These bar charts are also rather telling about my class schedue. We see that Mondays have the lowest levels of activity across the board, which makes sense considering I only had one class on campus that day, with the rest being held over zoom. Tuesdays, Thursdays, and Fridays have a larger number of flights climbed, which aligns with activities on campus that only occur on those days. For instance, the stairs to physics lab and the student chapel might bring those numbers up."
   ]
  },
  {
   "cell_type": "markdown",
   "metadata": {},
   "source": [
    "## Hypothesis Testing\n",
    "\n",
    "With this data, there is a lot of hypothesis testing that we can conduct. My overall theory regarding this project is that the less physical recorded for a day, the more digital activity ther will be. For this to be correct, Mondays, which have the lowest physical activity across the board, should have a higher level of screen time than other days. The closest bars to Monday on our screen time bar graph are Wednesdays and Fridays. Wednesdays appear to have slightly higher physical activity levels than Fridays, so we will be comparing Wednesday's and Monday's screen times to test this hypothesis. If I am correct, then the mean screen time on Mondays should be greater than that on Wednesdays.\n",
    "\n",
    "### State the null and alternate hypothesis\n",
    "\n",
    "**Null Hypothesis** ($H_0$): The Monday screen time mean will be less than or equal to the Wednesday screen time mean ($\\mu_m <= \\mu_w$)  \n",
    "**Alternate Hypothesis** ($H_1$): The Monday screen time mean will be greater than the Wednesday screen time mean ($\\mu_m > \\mu_w$)\n",
    "\n",
    "### Choose the level of significance\n",
    "\n",
    "$\\alpha = 0.01$\n",
    "\n",
    "I chose this confidence level to be more sure of the results of the hypothesis testing, since the mean values depicted by the screen time bar chart appear to be very close. Having a lower level of significance means our results will have more significance. In order to reject the null hypothesis, our p value will need to be less than 0.01.\n",
    "\n",
    "### Select the appropriate test statistic\n",
    "\n",
    "For this test, we are working with two sets of data, which are independent of each other, and we will be testing to see if one is greater than the other. This means we are conducting a right tailed, two sample test of independent means.\n",
    "\n",
    "### Formulate the Decision Rule\n",
    "\n",
    "Before we find our decision rule, we need to find a critical t value. "
   ]
  },
  {
   "cell_type": "code",
   "execution_count": 7,
   "metadata": {},
   "outputs": [
    {
     "name": "stdout",
     "output_type": "stream",
     "text": [
      "Degrees of Freedom:  17\n"
     ]
    }
   ],
   "source": [
    "wednesday_screentime_totals = pd.Series(dtype=float) \n",
    "monday_screentime_totals = pd.Series(dtype=float)\n",
    "for group_name, group_df in screen_time_weekday_groups:\n",
    "    if group_name == \"Monday\":\n",
    "        monday_screentime_totals = group_df[\"Total Time (Minutes)\"]\n",
    "    if group_name == \"Wednesday\":\n",
    "        wednesday_screentime_totals = group_df[\"Total Time (Minutes)\"]\n",
    "\n",
    "#Remove instances that don't have a screen time recorded\n",
    "monday_screentime_totals.dropna(inplace=True)\n",
    "wednesday_screentime_totals.dropna(inplace=True)\n",
    "\n",
    "#Calculate degrees of freedom\n",
    "df = len(monday_screentime_totals) + len(wednesday_screentime_totals) - 2\n",
    "print(\"Degrees of Freedom: \", df)\n"
   ]
  },
  {
   "cell_type": "markdown",
   "metadata": {},
   "source": [
    "Using degrees of freedom = 10, significance level = 0.01, and our t table, we find a critical t level of 2.764. Now we can formulate a decision rule.\n",
    "\n",
    "If our calculated t value is greater than 2.764, then we reject the null hypothesis. The mean Monday screen time is greater than the mean Wednesday screen time.  \n",
    "If our calculated t value is less than or equal to 2.764, then we fail to reject the null hypothesis. The mean Monday screen time is less than or equal to the mean Wednesday screen time.\n",
    "\n",
    "Now that we have a decision rule, we can use scipy to make a decision.\n",
    "\n",
    "### Make a decision"
   ]
  },
  {
   "cell_type": "code",
   "execution_count": 8,
   "metadata": {},
   "outputs": [
    {
     "name": "stdout",
     "output_type": "stream",
     "text": [
      "t computed:  1.4723444620875545\n",
      "Fail to reject H0, p-value: 0.07959997810354145\n"
     ]
    }
   ],
   "source": [
    "import scipy.stats as stats\n",
    "\n",
    "t_crit = 2.764\n",
    "alpha = 0.01\n",
    "\n",
    "t_computed, p_value = stats.ttest_ind(monday_screentime_totals, wednesday_screentime_totals)\n",
    "print(\"t computed: \", t_computed)\n",
    "\n",
    "if p_value/2 < alpha: \n",
    "    print(\"Reject H0, p-value:\", p_value/2)\n",
    "else:\n",
    "    print(\"Fail to reject H0, p-value:\", p_value/2)"
   ]
  },
  {
   "cell_type": "markdown",
   "metadata": {},
   "source": [
    "We fail to reject our null hypothesis. While the bar chart seems to show that the Monday screen time mean is slightly higher than Wednesday screen time mean, the difference is not significant enough for us to say that Mondays have higher screen time overall.\n",
    "\n",
    "This also eliminates my theory about screen time having an inverse relationship with physcial activity. From here, I will start comparing physical activity an screen time with regards to my class schedue on different weekdays."
   ]
  },
  {
   "cell_type": "markdown",
   "metadata": {},
   "source": [
    "## Analysis by Schedule"
   ]
  },
  {
   "cell_type": "markdown",
   "metadata": {},
   "source": [
    "Based off of this hypothesis testing, we probably won't be able to predict the day of the week based on sreen time data. The same goes for the health data; certain days of the week are too close to clearly distinguish between them based on the data alone. However, certain days appear to have similar patterns. To look into these trends, I will group the days by my class schedule: \n",
    "- Tuesdays and Thursdays (TR)\n",
    "- Mondays, Wednesdays, and Fridays (MWF)\n",
    "- Saturday and Sunday (SS)"
   ]
  },
  {
   "cell_type": "code",
   "execution_count": 9,
   "metadata": {},
   "outputs": [
    {
     "name": "stdout",
     "output_type": "stream",
     "text": [
      "MWF    28\n",
      "SS     19\n",
      "TR     19\n",
      "Name: Schedule Type, dtype: int64\n",
      "MWF    28\n",
      "SS     19\n",
      "TR     19\n",
      "Name: Schedule Type, dtype: int64\n"
     ]
    }
   ],
   "source": [
    "schedule_type = []\n",
    "for weekday in screen_time_df[\"Weekday\"]:\n",
    "    if (weekday == \"Monday\" or weekday == \"Wednesday\" or weekday == \"Friday\"):\n",
    "        schedule_type.append(\"MWF\")\n",
    "    elif (weekday == \"Tuesday\" or weekday == \"Thursday\"):\n",
    "        schedule_type.append(\"TR\")\n",
    "    else:\n",
    "        schedule_type.append(\"SS\")\n",
    "screen_time_df[\"Schedule Type\"] = schedule_type\n",
    "print(screen_time_df[\"Schedule Type\"].value_counts())\n",
    "\n",
    "schedule_type = []\n",
    "for weekday in health_df[\"Weekday\"]:\n",
    "    if (weekday == \"Monday\" or weekday == \"Wednesday\" or weekday == \"Friday\"):\n",
    "        schedule_type.append(\"MWF\")\n",
    "    elif (weekday == \"Tuesday\" or weekday == \"Thursday\"):\n",
    "        schedule_type.append(\"TR\")\n",
    "    elif (weekday == \"Sunday\" or weekday == \"Saturday\"):\n",
    "        schedule_type.append(\"SS\")\n",
    "health_df[\"Schedule Type\"] = schedule_type\n",
    "print(health_df[\"Schedule Type\"].value_counts())"
   ]
  },
  {
   "cell_type": "markdown",
   "metadata": {},
   "source": [
    "Now that we have this new attribute, we can start looking at the data by the schedule type, rather than the weekday."
   ]
  },
  {
   "cell_type": "code",
   "execution_count": 10,
   "metadata": {},
   "outputs": [],
   "source": [
    "health_schedule_groups = health_df.groupby(\"Schedule Type\")\n",
    "screen_time_schedule_groups = screen_time_df.groupby(\"Schedule Type\")\n",
    "\n",
    "distance_mean_ser = pd.Series(dtype = float)\n",
    "flights_mean_ser = pd.Series(dtype = float)\n",
    "steps_mean_ser = pd.Series(dtype = float)\n",
    "\n",
    "for group_name, group_df in health_schedule_groups:\n",
    "    distance_mean_ser[group_name] = group_df[\"Distance (mi)\"].mean()\n",
    "    flights_mean_ser[group_name] = group_df[\"Flights Climbed (count)\"].mean()\n",
    "    steps_mean_ser[group_name] = group_df[\"Steps (count)\"].mean()\n",
    "    \n",
    "total_minutes_mean_ser = pd.Series(dtype = float)\n",
    "for group_name, group_df in screen_time_schedule_groups:\n",
    "    total_minutes_mean_ser[group_name] = group_df[\"Total Time (Minutes)\"].mean()\n"
   ]
  },
  {
   "cell_type": "markdown",
   "metadata": {},
   "source": [
    "Now we can visualize this data in the same way as we did before."
   ]
  },
  {
   "cell_type": "code",
   "execution_count": 11,
   "metadata": {},
   "outputs": [
    {
     "data": {
      "image/png": "[encoded data removed]",
      "text/plain": [
       "<Figure size 432x288 with 1 Axes>"
      ]
     },
     "metadata": {
      "needs_background": "light"
     },
     "output_type": "display_data"
    }
   ],
   "source": [
    "utils.make_bar_chart(total_minutes_mean_ser, \"Mean Screen Time by Schedule Type (Min)\")"
   ]
  },
  {
   "cell_type": "code",
   "execution_count": 12,
   "metadata": {},
   "outputs": [
    {
     "data": {
      "image/png": "[encoded data removed]",
      "text/plain": [
       "<Figure size 432x288 with 1 Axes>"
      ]
     },
     "metadata": {
      "needs_background": "light"
     },
     "output_type": "display_data"
    },
    {
     "data": {
      "image/png": "[encoded data removed]",
      "text/plain": [
       "<Figure size 432x288 with 1 Axes>"
      ]
     },
     "metadata": {
      "needs_background": "light"
     },
     "output_type": "display_data"
    },
    {
     "data": {
      "image/png": "[encoded data removed]",
      "text/plain": [
       "<Figure size 432x288 with 1 Axes>"
      ]
     },
     "metadata": {
      "needs_background": "light"
     },
     "output_type": "display_data"
    }
   ],
   "source": [
    "utils.make_bar_chart(distance_mean_ser, \"Mean Distance by Schedule Type (Mi)\")\n",
    "utils.make_bar_chart(steps_mean_ser, \"Mean Steps by Schedule Type (Count)\")\n",
    "utils.make_bar_chart(flights_mean_ser, \"Mean Flights by Schedule Type (Count)\")"
   ]
  },
  {
   "cell_type": "markdown",
   "metadata": {},
   "source": [
    "Already, we can see some trends. On Tuesday/Thursday days, the number of flights of stairs I climb tends to be higher. On weekends, my average step count and distance is higher, and on Mondays, Wednesdays, and Fridays, I have a higher amount of screen time. We can see if these differences are significant by conducting another round of hypothesis testing."
   ]
  },
  {
   "cell_type": "markdown",
   "metadata": {},
   "source": [
    "### Hypothesis Testing (Round 2)\n",
    "\n",
    "I will start by testing my hypothesis that MWF days have the highest screen time. TO do so, I will check it against SS screen time, since that has the nect highest value.\n",
    "\n",
    "**Null Hypothesis:** MWF days have equal or less screen time than SS days.  \n",
    "**Alternate Hypothesis:** MWF days have greater screen time than SS days.\n",
    "\n",
    "$\\alpha = 0.01$\n",
    "\n",
    "For this test, we are working with two sets of data, which are independent of each other, and we will be testing to see if one is greater than the other. This means we are conducting a right tailed, two sample test of independent means.\n"
   ]
  },
  {
   "cell_type": "code",
   "execution_count": 13,
   "metadata": {},
   "outputs": [
    {
     "name": "stdout",
     "output_type": "stream",
     "text": [
      "Degrees of Freedom:  45\n"
     ]
    }
   ],
   "source": [
    "MWF_screentime_totals = pd.Series(dtype=float) \n",
    "SS_screentime_totals = pd.Series(dtype=float)\n",
    "for group_name, group_df in screen_time_schedule_groups:\n",
    "    if group_name == \"MWF\":\n",
    "        MWF_screentime_totals = group_df[\"Total Time (Minutes)\"]\n",
    "    if group_name == \"SS\":\n",
    "        SS_screentime_totals = group_df[\"Total Time (Minutes)\"]\n",
    "        \n",
    "#Calculate degrees of freedom\n",
    "df = len(MWF_screentime_totals) + len(SS_screentime_totals) - 2\n",
    "print(\"Degrees of Freedom: \", df)"
   ]
  },
  {
   "cell_type": "markdown",
   "metadata": {},
   "source": [
    "Using degrees of freedom = 45, significance level = 0.01, and our t table, we find a critical t level of 2.423. Now we can formulate a decision rule.\n",
    "\n",
    "If our calculated t value is greater than 2.423, then we reject the null hypothesis. MWF screen time is greater than SS screen time.  \n",
    "If our calculated t value is less than or equal to 2.423, then we fail to reject the null hypothesis. MWF screen time is less than or equal to SS screen time.\n",
    "\n",
    "Now that we have a decision rule, we can use scipy to make a decision."
   ]
  },
  {
   "cell_type": "code",
   "execution_count": 14,
   "metadata": {},
   "outputs": [
    {
     "name": "stdout",
     "output_type": "stream",
     "text": [
      "t computed:  2.4227632970628314\n",
      "Reject H0, p-value: 0.009745245392691297\n"
     ]
    }
   ],
   "source": [
    "\n",
    "t_crit = 2.423\n",
    "alpha = 0.01\n",
    "\n",
    "t_computed, p_value = stats.ttest_ind(MWF_screentime_totals, SS_screentime_totals)\n",
    "print(\"t computed: \", t_computed)\n",
    "\n",
    "if p_value/2 < alpha: \n",
    "    print(\"Reject H0, p-value:\", p_value/2)\n",
    "else:\n",
    "    print(\"Fail to reject H0, p-value:\", p_value/2)"
   ]
  },
  {
   "cell_type": "markdown",
   "metadata": {},
   "source": [
    "Given our results, we can reject the null hypothesis, which tells us that screen time on Mondays, Wednesdays, and Fridays  tends to be higher than on weekends, the next highest in our bar chart of mean screentime totals. \n",
    "\n",
    "Next, we can look at the distance of weekends (SS) compared to Tuesdays and Thursdays (TR), which have the next highest value in our bar charts. My hypothesis is that SS days will have a higher distance than TR days.\n",
    "\n",
    "**Null Hypothesis:** SS days have equal or less distance traveled than TR days.  \n",
    "**Alternate Hypothesis:** SS days have greater distance traveled than TR days.\n",
    "\n",
    "$\\alpha = 0.01$\n",
    "\n",
    "For this test, we are working with two sets of data, which are independent of each other, and we will be testing to see if one is greater than the other. This means we are conducting a right tailed, two sample test of independent means.\n"
   ]
  },
  {
   "cell_type": "code",
   "execution_count": 15,
   "metadata": {},
   "outputs": [
    {
     "name": "stdout",
     "output_type": "stream",
     "text": [
      "Degrees of Freedom:  36\n"
     ]
    }
   ],
   "source": [
    "TR_distance_totals = pd.Series(dtype=float) \n",
    "SS_distance_totals = pd.Series(dtype=float)\n",
    "for group_name, group_df in health_schedule_groups:\n",
    "    if group_name == \"TR\":\n",
    "        TR_distance_totals = group_df[\"Distance (mi)\"]\n",
    "    if group_name == \"SS\":\n",
    "        SS_distance_totals = group_df[\"Distance (mi)\"]\n",
    "        \n",
    "#Calculate degrees of freedom\n",
    "df = len(TR_distance_totals) + len(SS_distance_totals) - 2\n",
    "print(\"Degrees of Freedom: \", df)"
   ]
  },
  {
   "cell_type": "markdown",
   "metadata": {},
   "source": [
    "Using degrees of freedom = 36, significance level = 0.01, and our t table, we find a critical t level of 2.434. Now we can formulate a decision rule.\n",
    "\n",
    "If our calculated t value is greater than 2.434, then we reject the null hypothesis. SS distance is greater than TR distance.  \n",
    "If our calculated t value is less than or equal to 2.434, then we fail to reject the null hypothesis. SS distance is less than or equal to TR distance.\n",
    "\n",
    "Now that we have a decision rule, we can use scipy to make a decision."
   ]
  },
  {
   "cell_type": "code",
   "execution_count": 16,
   "metadata": {},
   "outputs": [
    {
     "name": "stdout",
     "output_type": "stream",
     "text": [
      "t computed:  0.5585866815780629\n",
      "Fail to reject H0, p-value: 0.28995096252963787\n"
     ]
    }
   ],
   "source": [
    "\n",
    "t_crit = 2.434\n",
    "alpha = 0.01\n",
    "\n",
    "t_computed, p_value = stats.ttest_ind(SS_distance_totals, TR_distance_totals)\n",
    "print(\"t computed: \", t_computed)\n",
    "\n",
    "if p_value/2 < alpha: \n",
    "    print(\"Reject H0, p-value:\", p_value/2)\n",
    "else:\n",
    "    print(\"Fail to reject H0, p-value:\", p_value/2)"
   ]
  },
  {
   "cell_type": "markdown",
   "metadata": {},
   "source": [
    "Unfortunately, we won't be able to base much off of distance. We fail to reject the null hypothesis, so the weekend distances is less than or equal to that of Tuesdays and Thursdays.\n",
    "\n",
    "We can quickly run through the same process regarding step counts; everything for this hypothesis test is the same, only using step counts instead of distances"
   ]
  },
  {
   "cell_type": "code",
   "execution_count": 17,
   "metadata": {},
   "outputs": [
    {
     "name": "stdout",
     "output_type": "stream",
     "text": [
      "Degrees of Freedom:  36\n",
      "t computed:  0.6183596216451052\n",
      "Fail to reject H0, p-value: 0.2701156032261972\n"
     ]
    }
   ],
   "source": [
    "TR_step_totals = pd.Series(dtype=float) \n",
    "SS_step_totals = pd.Series(dtype=float)\n",
    "for group_name, group_df in health_schedule_groups:\n",
    "    if group_name == \"TR\":\n",
    "        TR_step_totals = group_df[\"Steps (count)\"]\n",
    "    if group_name == \"SS\":\n",
    "        SS_step_totals = group_df[\"Steps (count)\"]\n",
    "        \n",
    "#Calculate degrees of freedom\n",
    "df = len(TR_step_totals) + len(SS_step_totals) - 2\n",
    "print(\"Degrees of Freedom: \", df)\n",
    "\n",
    "\n",
    "t_crit = 2.434\n",
    "alpha = 0.01\n",
    "\n",
    "t_computed, p_value = stats.ttest_ind(SS_step_totals, TR_step_totals)\n",
    "print(\"t computed: \", t_computed)\n",
    "\n",
    "if p_value/2 < alpha: \n",
    "    print(\"Reject H0, p-value:\", p_value/2)\n",
    "else:\n",
    "    print(\"Fail to reject H0, p-value:\", p_value/2)"
   ]
  },
  {
   "cell_type": "markdown",
   "metadata": {},
   "source": [
    "Once again, the difference in activity between SS and TR days is insignificant in distinguishing between schedule types.\n",
    "\n",
    "Our last round of testing regards TR days and the number of flights climbed. For this round of hypothesis testing I will be comparing TR days and SS days. My hypothesis is that TR days have a higher number of flights climbed than SS days, which is the next highest value on the respective bar graph.\n",
    "\n",
    "**Null Hypothesis:** TR days have equal or less flights climbed than SS days.  \n",
    "**Alternate Hypothesis:** TR days have greater flights climbed than SS days.\n",
    "\n",
    "$\\alpha = 0.01$\n",
    "\n",
    "For this test, we are working with two sets of data, which are independent of each other, and we will be testing to see if one is greater than the other. This means we are conducting a right tailed, two sample test of independent means.\n"
   ]
  },
  {
   "cell_type": "code",
   "execution_count": 18,
   "metadata": {},
   "outputs": [
    {
     "name": "stdout",
     "output_type": "stream",
     "text": [
      "Degrees of Freedom:  36\n"
     ]
    }
   ],
   "source": [
    "TR_flight_totals = pd.Series(dtype=float) \n",
    "SS_flight_totals = pd.Series(dtype=float)\n",
    "for group_name, group_df in health_schedule_groups:\n",
    "    if group_name == \"TR\":\n",
    "        TR_flight_totals = group_df[\"Flights Climbed (count)\"]\n",
    "    if group_name == \"SS\":\n",
    "        SS_flight_totals = group_df[\"Flights Climbed (count)\"]\n",
    "        \n",
    "#Calculate degrees of freedom\n",
    "df = len(TR_flight_totals) + len(SS_flight_totals) - 2\n",
    "print(\"Degrees of Freedom: \", df)\n"
   ]
  },
  {
   "cell_type": "markdown",
   "metadata": {},
   "source": [
    "Using degrees of freedom = 36, significance level = 0.01, and our t table, we find a critical t level of 2.434. Now we can formulate a decision rule.\n",
    "\n",
    "If our calculated t value is greater than 2.434, then we reject the null hypothesis. TR flights climbed is greater than SS flights climbed.  \n",
    "If our calculated t value is less than or equal to 2.434, then we fail to reject the null hypothesis. TR flights climbed is less than or equal to SS flights climbed.\n",
    "\n",
    "Now that we have a decision rule, we can use scipy to make a decision."
   ]
  },
  {
   "cell_type": "code",
   "execution_count": 19,
   "metadata": {},
   "outputs": [
    {
     "name": "stdout",
     "output_type": "stream",
     "text": [
      "t computed:  0.7935696459658785\n",
      "Fail to reject H0, p-value: 0.21632286138007478\n"
     ]
    }
   ],
   "source": [
    "t_crit = 2.434\n",
    "alpha = 0.01\n",
    "\n",
    "t_computed, p_value = stats.ttest_ind(TR_flight_totals, SS_flight_totals)\n",
    "print(\"t computed: \", t_computed)\n",
    "\n",
    "if p_value/2 < alpha: \n",
    "    print(\"Reject H0, p-value:\", p_value/2)\n",
    "else:\n",
    "    print(\"Fail to reject H0, p-value:\", p_value/2)"
   ]
  },
  {
   "cell_type": "markdown",
   "metadata": {},
   "source": [
    "Once again, we fail to reject the null hypothesis, meaning that we can't say that TR days have more flights climbed than SS days. Based on these hypothesis tests, any classifiers based off of physical activity will have a hard time distinguishing the type of schedule. Hopefully, by including the data from screen_time.csv, we will be able to distinguish more clearly."
   ]
  },
  {
   "cell_type": "markdown",
   "metadata": {},
   "source": [
    "Before moving on, we'll save the edited data frames back into csv files to allow the new attributes to be used in classification."
   ]
  },
  {
   "cell_type": "code",
   "execution_count": 20,
   "metadata": {},
   "outputs": [],
   "source": [
    "screen_time_df.to_csv(\"revised_screen_time.csv\")\n",
    "health_df.to_csv(\"revised_health.csv\")"
   ]
  },
  {
   "cell_type": "markdown",
   "metadata": {},
   "source": [
    "From here, we will move onto classification."
   ]
  }
 ],
 "metadata": {
  "kernelspec": {
   "display_name": "Python 3",
   "language": "python",
   "name": "python3"
  },
  "language_info": {
   "codemirror_mode": {
    "name": "ipython",
    "version": 3
   },
   "file_extension": ".py",
   "mimetype": "text/x-python",
   "name": "python",
   "nbconvert_exporter": "python",
   "pygments_lexer": "ipython3",
   "version": "3.8.3"
  }
 },
 "nbformat": 4,
 "nbformat_minor": 4
}
